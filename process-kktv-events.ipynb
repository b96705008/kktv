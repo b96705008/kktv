{
 "cells": [
  {
   "cell_type": "code",
   "execution_count": 1,
   "metadata": {},
   "outputs": [
    {
     "data": {
      "text/html": [
       "\n",
       "            <div>\n",
       "                <p><b>SparkSession - hive</b></p>\n",
       "                \n",
       "        <div>\n",
       "            <p><b>SparkContext</b></p>\n",
       "\n",
       "            <p><a href=\"http://172.22.95.25:4040\">Spark UI</a></p>\n",
       "\n",
       "            <dl>\n",
       "              <dt>Version</dt>\n",
       "                <dd><code>v2.2.0</code></dd>\n",
       "              <dt>Master</dt>\n",
       "                <dd><code>local[*]</code></dd>\n",
       "              <dt>AppName</dt>\n",
       "                <dd><code>KKTV_Spark</code></dd>\n",
       "            </dl>\n",
       "        </div>\n",
       "        \n",
       "            </div>\n",
       "        "
      ],
      "text/plain": [
       "<pyspark.sql.session.SparkSession at 0x111504d10>"
      ]
     },
     "execution_count": 1,
     "metadata": {},
     "output_type": "execute_result"
    }
   ],
   "source": [
    "spark"
   ]
  },
  {
   "cell_type": "code",
   "execution_count": 5,
   "metadata": {},
   "outputs": [],
   "source": [
    "header = sc.textFile('kktv-17-11/train').take(1)[0]"
   ]
  },
  {
   "cell_type": "code",
   "execution_count": 11,
   "metadata": {},
   "outputs": [
    {
     "data": {
      "text/plain": [
       "u'user_id,device_id,session_id,title_id,event_time,played_duration,action_trigger,platform,episode_number,series_total_episodes_count,internet_connection_type,is_trailer'"
      ]
     },
     "execution_count": 11,
     "metadata": {},
     "output_type": "execute_result"
    }
   ],
   "source": [
    "header"
   ]
  },
  {
   "cell_type": "code",
   "execution_count": 7,
   "metadata": {},
   "outputs": [],
   "source": [
    "train_evts = sc.textFile('kktv-17-11/train').filter(lambda e: e != header)"
   ]
  },
  {
   "cell_type": "code",
   "execution_count": 8,
   "metadata": {},
   "outputs": [
    {
     "data": {
      "text/plain": [
       "57661193"
      ]
     },
     "execution_count": 8,
     "metadata": {},
     "output_type": "execute_result"
    }
   ],
   "source": [
    "train_evts.count()"
   ]
  },
  {
   "cell_type": "code",
   "execution_count": 10,
   "metadata": {
    "collapsed": true
   },
   "outputs": [],
   "source": [
    "from pyspark.sql import Row"
   ]
  },
  {
   "cell_type": "code",
   "execution_count": 12,
   "metadata": {
    "collapsed": true
   },
   "outputs": [],
   "source": [
    "import datetime as dt"
   ]
  },
  {
   "cell_type": "code",
   "execution_count": 14,
   "metadata": {},
   "outputs": [
    {
     "data": {
      "text/plain": [
       "23"
      ]
     },
     "execution_count": 14,
     "metadata": {},
     "output_type": "execute_result"
    }
   ],
   "source": [
    "len('2017-06-08 14:54:30.325')"
   ]
  },
  {
   "cell_type": "code",
   "execution_count": 15,
   "metadata": {},
   "outputs": [
    {
     "data": {
      "text/plain": [
       "'2017-06-08 14:54:30'"
      ]
     },
     "execution_count": 15,
     "metadata": {},
     "output_type": "execute_result"
    }
   ],
   "source": [
    "'2017-06-08 14:54:30.325'[:19]"
   ]
  },
  {
   "cell_type": "code",
   "execution_count": 23,
   "metadata": {},
   "outputs": [],
   "source": [
    "test_dt = dt.datetime.strptime('2017-06-08 14:54:30.325'[:19], '%Y-%m-%d %H:%M:%S')"
   ]
  },
  {
   "cell_type": "code",
   "execution_count": 29,
   "metadata": {},
   "outputs": [
    {
     "data": {
      "text/plain": [
       "True"
      ]
     },
     "execution_count": 29,
     "metadata": {},
     "output_type": "execute_result"
    }
   ],
   "source": [
    "dt.datetime(2017, 1, 1, 9, 13, 0) < dt.datetime(2017, 1, 1, 9, 13, 45)"
   ]
  },
  {
   "cell_type": "code",
   "execution_count": 27,
   "metadata": {},
   "outputs": [
    {
     "data": {
      "text/plain": [
       "(6, 8, 14)"
      ]
     },
     "execution_count": 27,
     "metadata": {},
     "output_type": "execute_result"
    }
   ],
   "source": [
    "test_dt.month, test_dt.day, test_dt.hour"
   ]
  },
  {
   "cell_type": "code",
   "execution_count": 73,
   "metadata": {},
   "outputs": [
    {
     "data": {
      "text/plain": [
       "3"
      ]
     },
     "execution_count": 73,
     "metadata": {},
     "output_type": "execute_result"
    }
   ],
   "source": [
    "test_dt."
   ]
  },
  {
   "cell_type": "code",
   "execution_count": 40,
   "metadata": {},
   "outputs": [
    {
     "data": {
      "text/plain": [
       "[u'user_id',\n",
       " u'device_id',\n",
       " u'session_id',\n",
       " u'title_id',\n",
       " u'event_time',\n",
       " u'played_duration',\n",
       " u'action_trigger',\n",
       " u'platform',\n",
       " u'episode_number',\n",
       " u'series_total_episodes_count',\n",
       " u'internet_connection_type',\n",
       " u'is_trailer']"
      ]
     },
     "execution_count": 40,
     "metadata": {},
     "output_type": "execute_result"
    }
   ],
   "source": [
    "header.split(',')"
   ]
  },
  {
   "cell_type": "code",
   "execution_count": 43,
   "metadata": {},
   "outputs": [
    {
     "data": {
      "text/plain": [
       "12"
      ]
     },
     "execution_count": 43,
     "metadata": {},
     "output_type": "execute_result"
    }
   ],
   "source": [
    "len(header.split(','))"
   ]
  },
  {
   "cell_type": "code",
   "execution_count": 38,
   "metadata": {
    "collapsed": true
   },
   "outputs": [],
   "source": [
    "def parse_slot(d):\n",
    "    slot = 3\n",
    "    if d < dt.datetime(d.year, d.month, d.day, 9, 0, 0):\n",
    "        slot = 0\n",
    "    elif d < dt.datetime(d.year, d.month, d.day, 17, 0, 0):\n",
    "        slot = 1\n",
    "    elif d < dt.datetime(d.year, d.month, d.day, 21, 0, 0):\n",
    "        slot = 2\n",
    "    return slot"
   ]
  },
  {
   "cell_type": "code",
   "execution_count": 64,
   "metadata": {
    "collapsed": true
   },
   "outputs": [],
   "source": [
    "def parse_evt(p):\n",
    "    evt_time = dt.datetime.strptime(p[4][:19], '%Y-%m-%d %H:%M:%S')\n",
    "\n",
    "    r = Row(\n",
    "        user_id=p[0],\n",
    "        device_id=p[1],\n",
    "        session_id=p[2],\n",
    "        title_id=p[3],\n",
    "        event_time=evt_time,\n",
    "        played_duration=float(p[5]),\n",
    "        action_trigger=p[6],\n",
    "        platform=p[7],\n",
    "        episode_number=int(p[8]),\n",
    "        series_total_episodes_count=int(p[9]),\n",
    "        internet_connection_type=p[10],\n",
    "        is_trailer=bool(p[11]),\n",
    "        month=evt_time.month,\n",
    "        day=evt_time.day,\n",
    "        hour=evt_time.hour,\n",
    "        slot=parse_slot(evt_time)\n",
    "    )\n",
    "    return r"
   ]
  },
  {
   "cell_type": "code",
   "execution_count": 66,
   "metadata": {},
   "outputs": [],
   "source": [
    "train_df = train_evts.map(lambda e: e.split(',')).map(parse_evt).toDF()"
   ]
  },
  {
   "cell_type": "code",
   "execution_count": 67,
   "metadata": {},
   "outputs": [
    {
     "name": "stdout",
     "output_type": "stream",
     "text": [
      "root\n",
      " |-- action_trigger: string (nullable = true)\n",
      " |-- day: long (nullable = true)\n",
      " |-- device_id: string (nullable = true)\n",
      " |-- episode_number: long (nullable = true)\n",
      " |-- event_time: timestamp (nullable = true)\n",
      " |-- hour: long (nullable = true)\n",
      " |-- internet_connection_type: string (nullable = true)\n",
      " |-- is_trailer: boolean (nullable = true)\n",
      " |-- month: long (nullable = true)\n",
      " |-- platform: string (nullable = true)\n",
      " |-- played_duration: double (nullable = true)\n",
      " |-- series_total_episodes_count: long (nullable = true)\n",
      " |-- session_id: string (nullable = true)\n",
      " |-- slot: long (nullable = true)\n",
      " |-- title_id: string (nullable = true)\n",
      " |-- user_id: string (nullable = true)\n",
      "\n"
     ]
    }
   ],
   "source": [
    "train_df.printSchema()"
   ]
  },
  {
   "cell_type": "code",
   "execution_count": 68,
   "metadata": {},
   "outputs": [
    {
     "name": "stdout",
     "output_type": "stream",
     "text": [
      "+-------+-------------------+-----+---+----+----+\n",
      "|user_id|         event_time|month|day|hour|slot|\n",
      "+-------+-------------------+-----+---+----+----+\n",
      "|      0|2017-06-08 14:54:34|    6|  8|  14|   1|\n",
      "|      0|2017-06-08 15:18:25|    6|  8|  15|   1|\n",
      "|      0|2017-06-08 15:21:35|    6|  8|  15|   1|\n",
      "|      0|2017-06-08 15:28:44|    6|  8|  15|   1|\n",
      "|      0|2017-06-10 12:34:37|    6| 10|  12|   1|\n",
      "|      0|2017-06-10 12:34:57|    6| 10|  12|   1|\n",
      "|      0|2017-06-11 07:10:26|    6| 11|   7|   0|\n",
      "|      0|2017-06-11 07:12:01|    6| 11|   7|   0|\n",
      "|      0|2017-08-19 01:40:44|    8| 19|   1|   0|\n",
      "|      2|2017-07-30 03:05:03|    7| 30|   3|   0|\n",
      "|      2|2017-08-17 09:23:43|    8| 17|   9|   1|\n",
      "|      3|2017-05-28 15:40:14|    5| 28|  15|   1|\n",
      "|      3|2017-05-28 15:41:33|    5| 28|  15|   1|\n",
      "|      3|2017-05-28 15:55:41|    5| 28|  15|   1|\n",
      "|      3|2017-05-28 16:07:15|    5| 28|  16|   1|\n",
      "|      3|2017-05-28 16:32:35|    5| 28|  16|   1|\n",
      "|      3|2017-05-28 16:43:49|    5| 28|  16|   1|\n",
      "|      3|2017-05-28 17:23:02|    5| 28|  17|   2|\n",
      "|      3|2017-05-28 17:28:33|    5| 28|  17|   2|\n",
      "|      3|2017-05-28 17:29:37|    5| 28|  17|   2|\n",
      "|      3|2017-05-28 17:33:29|    5| 28|  17|   2|\n",
      "|      3|2017-05-28 17:33:34|    5| 28|  17|   2|\n",
      "|      3|2017-05-28 17:55:40|    5| 28|  17|   2|\n",
      "|      3|2017-05-28 17:59:20|    5| 28|  17|   2|\n",
      "|      3|2017-05-28 18:17:40|    5| 28|  18|   2|\n",
      "|      3|2017-05-28 18:21:59|    5| 28|  18|   2|\n",
      "|      3|2017-05-28 18:30:23|    5| 28|  18|   2|\n",
      "|      3|2017-05-28 18:35:57|    5| 28|  18|   2|\n",
      "|      3|2017-05-28 18:36:13|    5| 28|  18|   2|\n",
      "|      3|2017-05-28 18:48:48|    5| 28|  18|   2|\n",
      "|      3|2017-05-28 18:53:06|    5| 28|  18|   2|\n",
      "|      3|2017-05-28 18:56:32|    5| 28|  18|   2|\n",
      "|      3|2017-05-29 09:23:28|    5| 29|   9|   1|\n",
      "|      3|2017-05-29 09:25:55|    5| 29|   9|   1|\n",
      "|      3|2017-05-29 09:29:27|    5| 29|   9|   1|\n",
      "|      3|2017-05-29 09:36:29|    5| 29|   9|   1|\n",
      "|      3|2017-05-29 09:46:41|    5| 29|   9|   1|\n",
      "|      3|2017-05-30 08:11:17|    5| 30|   8|   0|\n",
      "|      3|2017-05-30 08:12:10|    5| 30|   8|   0|\n",
      "|      3|2017-05-30 08:33:30|    5| 30|   8|   0|\n",
      "|      3|2017-05-30 08:35:07|    5| 30|   8|   0|\n",
      "|      3|2017-05-30 08:42:38|    5| 30|   8|   0|\n",
      "|      3|2017-05-30 08:47:06|    5| 30|   8|   0|\n",
      "|      3|2017-05-30 08:57:55|    5| 30|   8|   0|\n",
      "|      3|2017-05-30 09:41:14|    5| 30|   9|   1|\n",
      "|      3|2017-05-30 10:14:58|    5| 30|  10|   1|\n",
      "|      3|2017-05-30 15:19:39|    5| 30|  15|   1|\n",
      "|      3|2017-06-02 07:56:58|    6|  2|   7|   0|\n",
      "|      3|2017-06-02 08:02:11|    6|  2|   8|   0|\n",
      "|      3|2017-06-02 08:05:09|    6|  2|   8|   0|\n",
      "|      3|2017-06-02 14:44:12|    6|  2|  14|   1|\n",
      "|      3|2017-06-02 14:53:07|    6|  2|  14|   1|\n",
      "|      3|2017-06-16 06:12:35|    6| 16|   6|   0|\n",
      "|      3|2017-06-16 06:20:56|    6| 16|   6|   0|\n",
      "|      3|2017-06-16 06:26:47|    6| 16|   6|   0|\n",
      "|      3|2017-06-16 06:36:33|    6| 16|   6|   0|\n",
      "|      3|2017-06-16 07:29:01|    6| 16|   7|   0|\n",
      "|      3|2017-06-16 07:29:47|    6| 16|   7|   0|\n",
      "|      3|2017-06-16 10:02:14|    6| 16|  10|   1|\n",
      "|      3|2017-06-16 10:05:18|    6| 16|  10|   1|\n",
      "|      3|2017-06-16 10:09:24|    6| 16|  10|   1|\n",
      "|      3|2017-06-16 10:39:04|    6| 16|  10|   1|\n",
      "|      3|2017-06-16 10:43:21|    6| 16|  10|   1|\n",
      "|      3|2017-06-16 12:12:25|    6| 16|  12|   1|\n",
      "|      3|2017-06-16 12:13:30|    6| 16|  12|   1|\n",
      "|      3|2017-08-08 14:38:32|    8|  8|  14|   1|\n",
      "|      3|2017-08-08 14:44:37|    8|  8|  14|   1|\n",
      "|      3|2017-08-08 14:49:15|    8|  8|  14|   1|\n",
      "|      3|2017-08-08 15:06:55|    8|  8|  15|   1|\n",
      "|      3|2017-08-08 15:13:47|    8|  8|  15|   1|\n",
      "|      3|2017-08-08 15:17:53|    8|  8|  15|   1|\n",
      "|      3|2017-08-09 09:02:27|    8|  9|   9|   1|\n",
      "|      3|2017-08-09 09:11:06|    8|  9|   9|   1|\n",
      "|      3|2017-08-09 09:24:08|    8|  9|   9|   1|\n",
      "|      3|2017-08-09 09:40:06|    8|  9|   9|   1|\n",
      "|      3|2017-08-09 09:43:35|    8|  9|   9|   1|\n",
      "|      3|2017-08-09 09:51:31|    8|  9|   9|   1|\n",
      "|      3|2017-08-09 15:06:36|    8|  9|  15|   1|\n",
      "|      3|2017-08-09 15:20:25|    8|  9|  15|   1|\n",
      "|      3|2017-08-09 15:52:56|    8|  9|  15|   1|\n",
      "|      3|2017-08-09 15:57:03|    8|  9|  15|   1|\n",
      "|      3|2017-08-09 15:58:45|    8|  9|  15|   1|\n",
      "|      3|2017-08-09 16:03:29|    8|  9|  16|   1|\n",
      "|      3|2017-08-09 16:09:20|    8|  9|  16|   1|\n",
      "|      3|2017-08-09 16:12:26|    8|  9|  16|   1|\n",
      "|      3|2017-08-09 16:16:31|    8|  9|  16|   1|\n",
      "|      3|2017-08-09 16:17:53|    8|  9|  16|   1|\n",
      "|      3|2017-08-09 16:27:00|    8|  9|  16|   1|\n",
      "|      3|2017-08-09 16:40:48|    8|  9|  16|   1|\n",
      "|      3|2017-08-09 16:41:05|    8|  9|  16|   1|\n",
      "|      3|2017-08-09 16:45:01|    8|  9|  16|   1|\n",
      "|      3|2017-08-09 16:46:51|    8|  9|  16|   1|\n",
      "|      3|2017-08-09 17:04:03|    8|  9|  17|   2|\n",
      "|      3|2017-08-09 17:04:28|    8|  9|  17|   2|\n",
      "|      3|2017-08-10 16:12:03|    8| 10|  16|   1|\n",
      "|      3|2017-08-10 16:20:31|    8| 10|  16|   1|\n",
      "|      3|2017-08-10 16:28:23|    8| 10|  16|   1|\n",
      "|      3|2017-08-10 16:29:15|    8| 10|  16|   1|\n",
      "|      3|2017-08-10 16:32:42|    8| 10|  16|   1|\n",
      "|      3|2017-08-10 16:37:55|    8| 10|  16|   1|\n",
      "+-------+-------------------+-----+---+----+----+\n",
      "only showing top 100 rows\n",
      "\n"
     ]
    }
   ],
   "source": [
    "train_df.select('user_id', 'event_time', 'month', 'day', 'hour', 'slot').sample(False, 0.1).show(100)"
   ]
  },
  {
   "cell_type": "code",
   "execution_count": 71,
   "metadata": {},
   "outputs": [
    {
     "name": "stdout",
     "output_type": "stream",
     "text": [
      "+-------+-------------------+-----+---+----+----+\n",
      "|user_id|         event_time|month|day|hour|slot|\n",
      "+-------+-------------------+-----+---+----+----+\n",
      "|      4|2017-07-06 22:48:28|    7|  6|  22|   3|\n",
      "|      4|2017-07-06 22:51:22|    7|  6|  22|   3|\n",
      "|      4|2017-07-06 22:51:32|    7|  6|  22|   3|\n",
      "|      4|2017-07-06 22:51:41|    7|  6|  22|   3|\n",
      "|      4|2017-07-06 22:59:03|    7|  6|  22|   3|\n",
      "|      4|2017-07-06 23:02:32|    7|  6|  23|   3|\n",
      "|      4|2017-07-06 23:07:34|    7|  6|  23|   3|\n",
      "|      4|2017-07-06 23:33:33|    7|  6|  23|   3|\n",
      "|      4|2017-07-06 23:40:04|    7|  6|  23|   3|\n",
      "|      4|2017-07-06 23:42:34|    7|  6|  23|   3|\n",
      "|      4|2017-07-06 23:48:43|    7|  6|  23|   3|\n",
      "|      4|2017-07-06 23:56:21|    7|  6|  23|   3|\n",
      "|      4|2017-07-09 23:59:59|    7|  9|  23|   3|\n",
      "|      4|2017-07-10 23:41:48|    7| 10|  23|   3|\n",
      "|      4|2017-07-10 23:41:52|    7| 10|  23|   3|\n",
      "|      4|2017-07-10 23:41:55|    7| 10|  23|   3|\n",
      "|      4|2017-07-10 23:41:59|    7| 10|  23|   3|\n",
      "|      4|2017-07-10 23:42:14|    7| 10|  23|   3|\n",
      "|      4|2017-07-11 23:11:45|    7| 11|  23|   3|\n",
      "|      4|2017-07-11 23:11:49|    7| 11|  23|   3|\n",
      "+-------+-------------------+-----+---+----+----+\n",
      "only showing top 20 rows\n",
      "\n"
     ]
    }
   ],
   "source": [
    "train_df.where('hour > 21').select('user_id', 'event_time', 'month', 'day', 'hour', 'slot').show()"
   ]
  },
  {
   "cell_type": "code",
   "execution_count": null,
   "metadata": {},
   "outputs": [],
   "source": [
    "user_evts = train_df.rdd.groupBy(lambda e: e.user_id).take(1)[0]"
   ]
  },
  {
   "cell_type": "code",
   "execution_count": null,
   "metadata": {
    "collapsed": true
   },
   "outputs": [],
   "source": [
    "# 2017/1/2 - 2017/8/13"
   ]
  }
 ],
 "metadata": {
  "kernelspec": {
   "display_name": "Python 2",
   "language": "python",
   "name": "python2"
  },
  "language_info": {
   "codemirror_mode": {
    "name": "ipython",
    "version": 2
   },
   "file_extension": ".py",
   "mimetype": "text/x-python",
   "name": "python",
   "nbconvert_exporter": "python",
   "pygments_lexer": "ipython2",
   "version": "2.7.13"
  }
 },
 "nbformat": 4,
 "nbformat_minor": 2
}
